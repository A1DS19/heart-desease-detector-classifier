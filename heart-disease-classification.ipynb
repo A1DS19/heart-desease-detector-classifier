{
 "cells": [
  {
   "cell_type": "markdown",
   "id": "dc5cf9fc",
   "metadata": {},
   "source": [
    "# Predicting heart disease using machine learning\n",
    "\n",
    "## Problem definition:\n",
    "> Given clinical parameters about a patient can we predict if that person has heart disease?\n",
    "\n",
    "## Data:\n",
    "> Can be found [here](https://www.kaggle.com/ronitf/heart-disease-uci).\n",
    "\n",
    "> This database contains 76 attributes, but all published experiments refer to using a subset of 14 of them. In particular, the Cleveland database is the only one that has been used by ML researchers to\n",
    "this date. The \"goal\" field refers to the presence of heart disease in the patient. It is integer valued from 0 (no presence) to 4.\n",
    "\n",
    "#### Features:\n",
    "* age: age\n",
    "* sex: sex\n",
    "* cp: chest pain type (4 values)\n",
    "* trestbps: resting blood pressure\n",
    "* chol: serum cholestoral in mg/dl\n",
    "* fbs: fasting blood sugar > 120 mg/dl\n",
    "* restecg: resting electrocardiographic results (values 0,1,2)\n",
    "* thalach: maximum heart rate achieved\n",
    "* exang: exercise induced angina\n",
    "* oldpeak: oldpeak = ST depression induced by exercise relative to rest\n",
    "* slope: the slope of the peak exercise ST segment\n",
    "* ca: number of major vessels (0-3) colored by flourosopy\n",
    "* thal: thal: 3 = normal; 6 = fixed defect; 7 = reversable defect\n",
    "\n",
    "## Evaluation:\n",
    "> If the model can reach 90+% accuracy, then it'll be feasable to integrate in an application."
   ]
  },
  {
   "cell_type": "code",
   "execution_count": 2,
   "id": "86b665f5",
   "metadata": {},
   "outputs": [],
   "source": [
    "%matplotlib inline\n",
    "import matplotlib.pyplot as plt\n",
    "import pandas as pd\n",
    "import numpy as np"
   ]
  }
 ],
 "metadata": {
  "kernelspec": {
   "display_name": "Python 3 (ipykernel)",
   "language": "python",
   "name": "python3"
  },
  "language_info": {
   "codemirror_mode": {
    "name": "ipython",
    "version": 3
   },
   "file_extension": ".py",
   "mimetype": "text/x-python",
   "name": "python",
   "nbconvert_exporter": "python",
   "pygments_lexer": "ipython3",
   "version": "3.9.7"
  }
 },
 "nbformat": 4,
 "nbformat_minor": 5
}
